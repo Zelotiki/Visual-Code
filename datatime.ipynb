{
 "cells": [
  {
   "cell_type": "code",
   "execution_count": 1,
   "metadata": {},
   "outputs": [
    {
     "ename": "SyntaxError",
     "evalue": "leading zeros in decimal integer literals are not permitted; use an 0o prefix for octal integers (2483061637.py, line 7)",
     "output_type": "error",
     "traceback": [
      "\u001b[1;36m  Input \u001b[1;32mIn [1]\u001b[1;36m\u001b[0m\n\u001b[1;33m    Full time format of now is 2020-06-01 17:54:40.010540\u001b[0m\n\u001b[1;37m                                    ^\u001b[0m\n\u001b[1;31mSyntaxError\u001b[0m\u001b[1;31m:\u001b[0m leading zeros in decimal integer literals are not permitted; use an 0o prefix for octal integers\n"
     ]
    }
   ],
   "source": [
    "from datetime import datetime\n",
    "\n",
    "\n",
    "# current date and time\n",
    "now = datetime.now() \n",
    "print(f'Full time format of now is {now}')\n",
    "Full time format of now is 2020-06-01 17:54:40.010540\n",
    "\n",
    "# Year\n",
    "year = now.strftime(\"%Y\")\n",
    "print(\"year:\", year)\n",
    "year: 2020\n",
    "\n",
    "# Month\n",
    "month = now.strftime(\"%m\")\n",
    "print(\"month:\", month)\n",
    "month: 06\n",
    "\n",
    "# Day\n",
    "day = now.strftime(\"%d\")\n",
    "print(\"day:\", day)\n",
    "day: 01\n",
    "\n",
    "# Time\n",
    "time = now.strftime(\"%H:%M:%S\")\n",
    "print(\"time:\", time)\n",
    "time: 17:54:40\n",
    "\n"
   ]
  }
 ],
 "metadata": {
  "kernelspec": {
   "display_name": "Python 3.10.0 64-bit",
   "language": "python",
   "name": "python3"
  },
  "language_info": {
   "codemirror_mode": {
    "name": "ipython",
    "version": 3
   },
   "file_extension": ".py",
   "mimetype": "text/x-python",
   "name": "python",
   "nbconvert_exporter": "python",
   "pygments_lexer": "ipython3",
   "version": "3.10.0"
  },
  "orig_nbformat": 4,
  "vscode": {
   "interpreter": {
    "hash": "632b5033b1b4111fabe2a384eba753571508b89fedbf1b11d01133667b027ba9"
   }
  }
 },
 "nbformat": 4,
 "nbformat_minor": 2
}
