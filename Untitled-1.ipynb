{
 "cells": [
  {
   "cell_type": "code",
   "execution_count": 1,
   "metadata": {},
   "outputs": [
    {
     "name": "stdout",
     "output_type": "stream",
     "text": [
      "Requirement already satisfied: requests in c:\\users\\zelot_r3yhc9g\\appdata\\local\\programs\\python\\python310\\lib\\site-packages (2.28.1)\n",
      "Requirement already satisfied: urllib3<1.27,>=1.21.1 in c:\\users\\zelot_r3yhc9g\\appdata\\local\\programs\\python\\python310\\lib\\site-packages (from requests) (1.26.12)\n",
      "Requirement already satisfied: charset-normalizer<3,>=2 in c:\\users\\zelot_r3yhc9g\\appdata\\local\\programs\\python\\python310\\lib\\site-packages (from requests) (2.1.1)\n",
      "Requirement already satisfied: idna<4,>=2.5 in c:\\users\\zelot_r3yhc9g\\appdata\\local\\programs\\python\\python310\\lib\\site-packages (from requests) (3.3)\n",
      "Requirement already satisfied: certifi>=2017.4.17 in c:\\users\\zelot_r3yhc9g\\appdata\\local\\programs\\python\\python310\\lib\\site-packages (from requests) (2022.6.15)\n",
      "Note: you may need to restart the kernel to use updated packages.\n"
     ]
    },
    {
     "name": "stderr",
     "output_type": "stream",
     "text": [
      "WARNING: You are using pip version 21.2.3; however, version 22.2.2 is available.\n",
      "You should consider upgrading via the 'c:\\Users\\zelot_r3yhc9g\\AppData\\Local\\Programs\\Python\\Python310\\python.exe -m pip install --upgrade pip' command.\n"
     ]
    }
   ],
   "source": [
    "pip install requests"
   ]
  },
  {
   "cell_type": "code",
   "execution_count": 2,
   "metadata": {},
   "outputs": [
    {
     "name": "stdout",
     "output_type": "stream",
     "text": [
      "Requirement already satisfied: beautifulsoup4 in c:\\users\\zelot_r3yhc9g\\appdata\\local\\programs\\python\\python310\\lib\\site-packages (4.11.1)\n",
      "Requirement already satisfied: soupsieve>1.2 in c:\\users\\zelot_r3yhc9g\\appdata\\local\\programs\\python\\python310\\lib\\site-packages (from beautifulsoup4) (2.3.2.post1)\n",
      "Note: you may need to restart the kernel to use updated packages.\n"
     ]
    },
    {
     "name": "stderr",
     "output_type": "stream",
     "text": [
      "WARNING: You are using pip version 21.2.3; however, version 22.2.2 is available.\n",
      "You should consider upgrading via the 'c:\\Users\\zelot_r3yhc9g\\AppData\\Local\\Programs\\Python\\Python310\\python.exe -m pip install --upgrade pip' command.\n"
     ]
    }
   ],
   "source": [
    "pip install beautifulsoup4"
   ]
  },
  {
   "cell_type": "code",
   "execution_count": 3,
   "metadata": {},
   "outputs": [
    {
     "name": "stdout",
     "output_type": "stream",
     "text": [
      "Requirement already satisfied: lxml in c:\\users\\zelot_r3yhc9g\\appdata\\local\\programs\\python\\python310\\lib\\site-packages (4.9.1)\n",
      "Note: you may need to restart the kernel to use updated packages.\n"
     ]
    },
    {
     "name": "stderr",
     "output_type": "stream",
     "text": [
      "WARNING: You are using pip version 21.2.3; however, version 22.2.2 is available.\n",
      "You should consider upgrading via the 'c:\\Users\\zelot_r3yhc9g\\AppData\\Local\\Programs\\Python\\Python310\\python.exe -m pip install --upgrade pip' command.\n"
     ]
    }
   ],
   "source": [
    "pip install lxml"
   ]
  },
  {
   "cell_type": "code",
   "execution_count": 4,
   "metadata": {},
   "outputs": [],
   "source": [
    "import requests\n",
    "from bs4 import BeautifulSoup\n",
    "from time import sleep"
   ]
  },
  {
   "cell_type": "code",
   "execution_count": 5,
   "metadata": {},
   "outputs": [],
   "source": [
    "list_card_url = []"
   ]
  },
  {
   "cell_type": "code",
   "execution_count": 6,
   "metadata": {},
   "outputs": [],
   "source": [
    "headers = {'User-Agent': 'CrookedHands/2.0 (EVM x8), CurlyFingers20/1;p'}"
   ]
  },
  {
   "cell_type": "code",
   "execution_count": 7,
   "metadata": {},
   "outputs": [
    {
     "name": "stdout",
     "output_type": "stream",
     "text": [
      "Short Dress $24.99 Short dress in woven fabric. Round neckline and opening at back of neck with a button. Yoke at back with concealed pleats, long sleeves, and narrow cuffs with ties. Side pockets. 100% polyester. Machine wash cold. https://scrapingclub.com/static/img/90008-E.jpg\n",
      "Patterned Slacks $29.99 Ankle-length slacks in patterned stretch cotton satin. Regular waist with concealed hook-and-eye fastener and zip fly. Side pockets and tapered legs with slits at hems. 61% cotton, 36% polyester, 3% spandex. Machine wash... https://scrapingclub.com/static/img/96436-A.jpg\n",
      "Short Chiffon Dress $49.99 Short V-neck dress in plumeti chiffon. Gathers and small ruffle at shoulders, dropped shoulders, and long, wide sleeves with buttons at cuffs. Narrow, elasticized seam at waist and circle skirt with ruffled tiers. Lined. 100% polyester. Machine wash warm. https://scrapingclub.com/static/img/93926-B.jpg\n",
      "Off-the-shoulder Dress $59.99 Short, fitted off-the-shoulder dress in stretch ribbed fabric. Short raglan sleeves, seam at waist with gently flared skirt. Unlined. 54% rayon, 44% nylon, 2% spandex. Machine wash warm. https://scrapingclub.com/static/img/90882-B.jpg\n",
      "V-neck Top $24.99 Top in woven fabric with V-neck front and back. Narrow shoulder straps and decorative straps at back. 100% polyester. Machine wash cold. https://scrapingclub.com/static/img/93756-C.jpg\n",
      "Short Chiffon Dress $49.99 Short V-neck dress in plumeti chiffon. Gathers and small ruffle at shoulders, dropped shoulders, and long, wide sleeves with buttons at cuffs. Narrow, elasticized seam at waist and circle skirt with ruffled tiers. Lined. 100% polyester. Machine wash warm. https://scrapingclub.com/static/img/93926-C.jpg\n",
      "V-neck Top $24.99 Top in woven fabric with V-neck front and back. Narrow shoulder straps and decorative straps at back. 100% polyester. Machine wash cold. https://scrapingclub.com/static/img/93756-B.jpg\n",
      "V-neck Top $24.99 Top in woven fabric with V-neck front and back. Narrow shoulder straps and decorative straps at back. 100% polyester. Machine wash cold. https://scrapingclub.com/static/img/93756-D.jpg\n",
      "Short Lace Dress $59.99 Short, straight-cut dress in lace. Opening at back with concealed button at back of neck. Round neck, padded shoulders, and 3/4-length sleeves. Lined. 51% cotton, 25% nylon, 24% rayon. Machine wash cold. https://scrapingclub.com/static/img/96643-A.jpg\n"
     ]
    }
   ],
   "source": [
    "list_card_url = []\n",
    "headers = {'User-Agent': 'CrookedHands/2.0 (EVM x8), CurlyFingers20/1;p'}\n",
    "def get_url():\n",
    "    for count in range(1,2):\n",
    "        \n",
    "        url = f'https://scrapingclub.com/exercise/list_basic/?page={count}'\n",
    "        response = requests.get(url, headers=headers)\n",
    "        soup = BeautifulSoup(response.text, 'lxml')\n",
    "        data = soup.find_all('div', class_='col-lg-4 col-md-6 mb-4')\n",
    "        for i in data:\n",
    "            card_url = 'https://scrapingclub.com' + i.find('a').get('href')\n",
    "            yield card_url\n",
    "\n",
    "for card_url in get_url():\n",
    "    \n",
    "    response = requests.get(card_url, headers=headers)\n",
    "    \n",
    "    soup = BeautifulSoup(response.text, 'lxml')\n",
    "    \n",
    "    data = soup.find('div', class_='card mt-4 my-4')\n",
    "    name = data.find('h3', class_='card-title').text\n",
    "    price = data.find('h4').text\n",
    "    text = data.find('p', class_='card-text').text\n",
    "    url_img = 'https://scrapingclub.com' + data.find('img', class_='card-img-top img-fluid').get('src')\n",
    "    print(name, price, text, url_img)"
   ]
  },
  {
   "cell_type": "code",
   "execution_count": 8,
   "metadata": {},
   "outputs": [],
   "source": [
    "for card_url in list_card_url:\n",
    "    sleep(1)\n",
    "    response = requests.get(url, headers=headers)\n",
    "    soup = BeautifulSoup(response.text, 'lxml')\n",
    "    data = soup.find('div', class_='card mt-4 my-4')\n",
    "    print(data)"
   ]
  },
  {
   "cell_type": "code",
   "execution_count": null,
   "metadata": {},
   "outputs": [],
   "source": []
  }
 ],
 "metadata": {
  "kernelspec": {
   "display_name": "Python 3.10.0 64-bit",
   "language": "python",
   "name": "python3"
  },
  "language_info": {
   "codemirror_mode": {
    "name": "ipython",
    "version": 3
   },
   "file_extension": ".py",
   "mimetype": "text/x-python",
   "name": "python",
   "nbconvert_exporter": "python",
   "pygments_lexer": "ipython3",
   "version": "3.10.0"
  },
  "orig_nbformat": 4,
  "vscode": {
   "interpreter": {
    "hash": "632b5033b1b4111fabe2a384eba753571508b89fedbf1b11d01133667b027ba9"
   }
  }
 },
 "nbformat": 4,
 "nbformat_minor": 2
}
