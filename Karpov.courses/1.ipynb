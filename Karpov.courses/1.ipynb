{
 "cells": [
  {
   "cell_type": "code",
   "execution_count": 10,
   "metadata": {},
   "outputs": [
    {
     "name": "stdout",
     "output_type": "stream",
     "text": [
      "0.0\n"
     ]
    }
   ],
   "source": [
    "def main():\n",
    "    c_int_side_dice: int = 3  # сколько граней у кубика\n",
    "    c_int_dice_number: int = 2 # кол-во кубиков\n",
    "    c_int_number_to_find: int = 1  # число, вероятность выпадения которого хотим найти\n",
    "    probability = dice_probability(c_int_dice_number, c_int_number_to_find, c_int_side_dice)\n",
    "    print(probability)\n",
    "\n",
    "\n",
    "# собственно поиск вероятности определённого значения\n",
    "def dice_probability(int_dice_number: int, int_number_to_find: int, c_int_side_dice: int) -> float:\n",
    "    list_values, list_interm_probability = list_values_and_interm_probabilities(int_dice_number, c_int_side_dice)\n",
    "    if int_number_to_find < list_values[0] or int_number_to_find > list_values[-1]:\n",
    "        # задаваемое число выходит за рамки реально возможного диапазона значений\n",
    "        result_out: float = 0.0\n",
    "    else:\n",
    "        for i in range(len(list_values)):\n",
    "            if list_values[i] == int_number_to_find:\n",
    "                result_out: float = list_interm_probability[i] / (c_int_side_dice ** int_dice_number)\n",
    "                break\n",
    "    return result_out\n",
    "\n",
    "\n",
    "# возвращает списки/массивы: значения (сумма выпавших всех значений кубиков), сколько раз встречается значение\n",
    "def list_values_and_interm_probabilities(int_dice_number: int, c_int_side_dice: int) -> tuple[list[int], list[int]]:  # [кол-во кубиков], [сколько граней у кубика]\n",
    "    list_values = [i for i in range(int_dice_number, c_int_side_dice * int_dice_number + 1)]  # <длина_списков_совпадает!>\n",
    "    list_interm_probability = [1] * c_int_side_dice  # [1, 1, 1, 1, 1, 1]\n",
    "    for i in range(int_dice_number - 1):\n",
    "        list_interm_probability = multiply_by_ones(list_interm_probability, c_int_side_dice) # <длина_списков_совпадает!>\n",
    "        # list_interm_probability = numpy.convolve(list_interm_probability, [1] * c_int_side_dice)  # <можно_использовать_numpy> и не использовать multiply_by_ones()\n",
    "\n",
    "    return list_values, list_interm_probability\n",
    "\n",
    "\n",
    "# \"умножение\" на единицы\n",
    "def multiply_by_ones(list_in: list[int], c_int_side_dice: int) -> list[int]:  # [1, 1, 1, 1, 1, 1], 6\n",
    "    list_dummy: list[list[int]] = []\n",
    "    for i in range(c_int_side_dice):\n",
    "        list_dummy.append([0] * i)  # [], [0], [0, 0], [0, 0, 0] ...\n",
    "\n",
    "    list_for_sum: list[list[int]] = []\n",
    "    for i in range(c_int_side_dice):\n",
    "        list_for_sum.append(list_dummy[i] + list_in + list_dummy[c_int_side_dice - i - 1])\n",
    "\n",
    "    \"\"\"\n",
    "    [list_in, 0, 0, 0, 0, 0]\n",
    "    [0, list_in, 0, 0, 0, 0]\n",
    "    [0, 0, list_in, 0, 0, 0]\n",
    "    [0, 0, 0, list_in, 0, 0]\n",
    "    [0, 0, 0, 0, list_in, 0]\n",
    "    [0, 0, 0, 0, 0, list_in]\n",
    "    \"\"\"\n",
    "\n",
    "    list_out: list[int] = []\n",
    "    for i in range(len(list_for_sum[0])):\n",
    "        sum_out: int = 0\n",
    "        for j in range(c_int_side_dice):\n",
    "            sum_out += list_for_sum[j][i]\n",
    "        list_out.append(sum_out)\n",
    "\n",
    "    \"\"\"\n",
    "    [1, 2, 3, 4, 5, 6, 5, 4, 3, 2, 1]\n",
    "    \"\"\"\n",
    "    return list_out\n",
    "\n",
    "if __name__ == \"__main__\":\n",
    "    main()"
   ]
  },
  {
   "cell_type": "code",
   "execution_count": 4,
   "metadata": {},
   "outputs": [
    {
     "name": "stdout",
     "output_type": "stream",
     "text": [
      "<function dice_probability at 0x000001BB6E80F760>\n"
     ]
    }
   ],
   "source": [
    "print(dice_probability)"
   ]
  },
  {
   "cell_type": "code",
   "execution_count": 6,
   "metadata": {},
   "outputs": [
    {
     "ename": "MemoryError",
     "evalue": "",
     "output_type": "error",
     "traceback": [
      "\u001b[1;31m---------------------------------------------------------------------------\u001b[0m",
      "\u001b[1;31mMemoryError\u001b[0m                               Traceback (most recent call last)",
      "\u001b[1;32mc:\\Users\\zelot_r3yhc9g\\Documents\\Visual Code\\Karpov.courses\\1.ipynb Ячейка 3\u001b[0m in \u001b[0;36m<cell line: 5>\u001b[1;34m()\u001b[0m\n\u001b[0;32m      <a href='vscode-notebook-cell:/c%3A/Users/zelot_r3yhc9g/Documents/Visual%20Code/Karpov.courses/1.ipynb#W4sZmlsZQ%3D%3D?line=2'>3</a>\u001b[0m a \u001b[39m=\u001b[39m \u001b[39mmap\u001b[39m(\u001b[39mint\u001b[39m,\u001b[39minput\u001b[39m()\u001b[39m.\u001b[39msplit())\n\u001b[0;32m      <a href='vscode-notebook-cell:/c%3A/Users/zelot_r3yhc9g/Documents/Visual%20Code/Karpov.courses/1.ipynb#W4sZmlsZQ%3D%3D?line=3'>4</a>\u001b[0m arr \u001b[39m=\u001b[39m [\u001b[39m\"\u001b[39m\u001b[39m1\u001b[39m\u001b[39m\"\u001b[39m,\u001b[39m\"\u001b[39m\u001b[39m2\u001b[39m\u001b[39m\"\u001b[39m,\u001b[39m\"\u001b[39m\u001b[39m3\u001b[39m\u001b[39m\"\u001b[39m,\u001b[39m\"\u001b[39m\u001b[39m4\u001b[39m\u001b[39m\"\u001b[39m,\u001b[39m\"\u001b[39m\u001b[39m5\u001b[39m\u001b[39m\"\u001b[39m,\u001b[39m\"\u001b[39m\u001b[39m6\u001b[39m\u001b[39m\"\u001b[39m]\n\u001b[1;32m----> <a href='vscode-notebook-cell:/c%3A/Users/zelot_r3yhc9g/Documents/Visual%20Code/Karpov.courses/1.ipynb#W4sZmlsZQ%3D%3D?line=4'>5</a>\u001b[0m res \u001b[39m=\u001b[39m [\u001b[39m\"\u001b[39m\u001b[39m\"\u001b[39m\u001b[39m.\u001b[39mjoin(i) \u001b[39mfor\u001b[39;00m i \u001b[39min\u001b[39;00m product(arr, repeat \u001b[39m=\u001b[39m n)]\n\u001b[0;32m      <a href='vscode-notebook-cell:/c%3A/Users/zelot_r3yhc9g/Documents/Visual%20Code/Karpov.courses/1.ipynb#W4sZmlsZQ%3D%3D?line=5'>6</a>\u001b[0m k \u001b[39m=\u001b[39m \u001b[39m0\u001b[39m\n\u001b[0;32m      <a href='vscode-notebook-cell:/c%3A/Users/zelot_r3yhc9g/Documents/Visual%20Code/Karpov.courses/1.ipynb#W4sZmlsZQ%3D%3D?line=6'>7</a>\u001b[0m \u001b[39mfor\u001b[39;00m i \u001b[39min\u001b[39;00m \u001b[39mrange\u001b[39m(\u001b[39m0\u001b[39m,\u001b[39mlen\u001b[39m(res)):\n",
      "\u001b[1;32mc:\\Users\\zelot_r3yhc9g\\Documents\\Visual Code\\Karpov.courses\\1.ipynb Ячейка 3\u001b[0m in \u001b[0;36m<listcomp>\u001b[1;34m(.0)\u001b[0m\n\u001b[0;32m      <a href='vscode-notebook-cell:/c%3A/Users/zelot_r3yhc9g/Documents/Visual%20Code/Karpov.courses/1.ipynb#W4sZmlsZQ%3D%3D?line=2'>3</a>\u001b[0m a \u001b[39m=\u001b[39m \u001b[39mmap\u001b[39m(\u001b[39mint\u001b[39m,\u001b[39minput\u001b[39m()\u001b[39m.\u001b[39msplit())\n\u001b[0;32m      <a href='vscode-notebook-cell:/c%3A/Users/zelot_r3yhc9g/Documents/Visual%20Code/Karpov.courses/1.ipynb#W4sZmlsZQ%3D%3D?line=3'>4</a>\u001b[0m arr \u001b[39m=\u001b[39m [\u001b[39m\"\u001b[39m\u001b[39m1\u001b[39m\u001b[39m\"\u001b[39m,\u001b[39m\"\u001b[39m\u001b[39m2\u001b[39m\u001b[39m\"\u001b[39m,\u001b[39m\"\u001b[39m\u001b[39m3\u001b[39m\u001b[39m\"\u001b[39m,\u001b[39m\"\u001b[39m\u001b[39m4\u001b[39m\u001b[39m\"\u001b[39m,\u001b[39m\"\u001b[39m\u001b[39m5\u001b[39m\u001b[39m\"\u001b[39m,\u001b[39m\"\u001b[39m\u001b[39m6\u001b[39m\u001b[39m\"\u001b[39m]\n\u001b[1;32m----> <a href='vscode-notebook-cell:/c%3A/Users/zelot_r3yhc9g/Documents/Visual%20Code/Karpov.courses/1.ipynb#W4sZmlsZQ%3D%3D?line=4'>5</a>\u001b[0m res \u001b[39m=\u001b[39m [\u001b[39m\"\u001b[39m\u001b[39m\"\u001b[39m\u001b[39m.\u001b[39mjoin(i) \u001b[39mfor\u001b[39;00m i \u001b[39min\u001b[39;00m product(arr, repeat \u001b[39m=\u001b[39m n)]\n\u001b[0;32m      <a href='vscode-notebook-cell:/c%3A/Users/zelot_r3yhc9g/Documents/Visual%20Code/Karpov.courses/1.ipynb#W4sZmlsZQ%3D%3D?line=5'>6</a>\u001b[0m k \u001b[39m=\u001b[39m \u001b[39m0\u001b[39m\n\u001b[0;32m      <a href='vscode-notebook-cell:/c%3A/Users/zelot_r3yhc9g/Documents/Visual%20Code/Karpov.courses/1.ipynb#W4sZmlsZQ%3D%3D?line=6'>7</a>\u001b[0m \u001b[39mfor\u001b[39;00m i \u001b[39min\u001b[39;00m \u001b[39mrange\u001b[39m(\u001b[39m0\u001b[39m,\u001b[39mlen\u001b[39m(res)):\n",
      "\u001b[1;31mMemoryError\u001b[0m: "
     ]
    }
   ],
   "source": [
    "from itertools import product\n",
    "n = int(input())\n",
    "company = int(n)\n",
    "cube = int(n)\n",
    "    \n",
    "print(k / (6**n))"
   ]
  },
  {
   "cell_type": "code",
   "execution_count": 19,
   "metadata": {},
   "outputs": [],
   "source": [
    "arr = list(range(1,51))"
   ]
  },
  {
   "cell_type": "code",
   "execution_count": 20,
   "metadata": {},
   "outputs": [],
   "source": [
    "len_range_cube = len(arr)"
   ]
  },
  {
   "cell_type": "code",
   "execution_count": 21,
   "metadata": {},
   "outputs": [
    {
     "data": {
      "text/plain": [
       "50"
      ]
     },
     "execution_count": 21,
     "metadata": {},
     "output_type": "execute_result"
    }
   ],
   "source": [
    "len_range_cube"
   ]
  },
  {
   "cell_type": "code",
   "execution_count": 1,
   "metadata": {},
   "outputs": [
    {
     "name": "stdout",
     "output_type": "stream",
     "text": [
      "121312141213121\n"
     ]
    }
   ],
   "source": [
    "str1 = '1'\n",
    "str2 = str1 + '2' + str1\n",
    "str3 = str2 + '3' + str2\n",
    "str4 = str3 + '4' + str3\n",
    "print(str4)"
   ]
  },
  {
   "cell_type": "code",
   "execution_count": 2,
   "metadata": {},
   "outputs": [
    {
     "name": "stdout",
     "output_type": "stream",
     "text": [
      "123123123456456789\n"
     ]
    }
   ],
   "source": [
    "mystr = '123' * 3 + '456' * 2 + '789' * 1\n",
    "print(mystr)"
   ]
  },
  {
   "cell_type": "code",
   "execution_count": 50,
   "metadata": {},
   "outputs": [
    {
     "name": "stdout",
     "output_type": "stream",
     "text": [
      "9\n",
      "15\n",
      "17\n",
      "19\n",
      "29\n",
      "30\n",
      "34\n",
      "39\n",
      "45\n",
      "49\n",
      "51\n"
     ]
    }
   ],
   "source": [
    "# put your python code here\n",
    "m = int(1)\n",
    "n = int(51)\n",
    "for i in range(m, n+1): # переменная ин рэйндж(м, н+1): включаем правую границу\n",
    "    if (i % 3 == 0 and i % 5 == 0) or i % 10 == 9 or i % 17 == 0:\n",
    "        print(i)"
   ]
  },
  {
   "cell_type": "markdown",
   "metadata": {},
   "source": [
    "Обмен значениями, простой"
   ]
  },
  {
   "cell_type": "code",
   "execution_count": null,
   "metadata": {},
   "outputs": [],
   "source": [
    "temp = x\n",
    "x = y\n",
    "y = temp"
   ]
  },
  {
   "cell_type": "markdown",
   "metadata": {},
   "source": [
    "Обмен значениями, в питоне"
   ]
  },
  {
   "cell_type": "code",
   "execution_count": null,
   "metadata": {},
   "outputs": [],
   "source": [
    "x, y = y, x"
   ]
  },
  {
   "cell_type": "markdown",
   "metadata": {},
   "source": [
    "Сигнальные метки"
   ]
  },
  {
   "cell_type": "code",
   "execution_count": null,
   "metadata": {},
   "outputs": [],
   "source": [
    "num = int(input())\n",
    "flag = True\n",
    "\n",
    "for i in range(2, num):\n",
    "    if num % i == 0:        #  если исходное число делится на какое-либо отличное от 1 и самого себя\n",
    "        flag = False\n",
    "\n",
    "if num == 1:\n",
    "    print('Это единица, она не простая и не составная') \n",
    "elif flag == True:\n",
    "    print('Число простое')\n",
    "else:\n",
    "    print('Число составное')"
   ]
  },
  {
   "cell_type": "markdown",
   "metadata": {},
   "source": [
    "Максимум и минимум"
   ]
  },
  {
   "cell_type": "code",
   "execution_count": null,
   "metadata": {},
   "outputs": [],
   "source": [
    "largest = -1\n",
    "for i in range(10):\n",
    "    num = int(input())    \n",
    "    if num > largest:\n",
    "        largest = num\n",
    "print('Наибольшее число равно', largest) "
   ]
  },
  {
   "cell_type": "code",
   "execution_count": null,
   "metadata": {},
   "outputs": [],
   "source": [
    "largest = int(input())  # принимаем первое число за максимальное\n",
    "for i in range(9):\n",
    "    num = int(input())\n",
    "    if num > largest:\n",
    "        largest = num\n",
    "print('Наибольшее число равно', largest)"
   ]
  },
  {
   "cell_type": "markdown",
   "metadata": {},
   "source": [
    "Расширенные операторы присваивания"
   ]
  },
  {
   "cell_type": "code",
   "execution_count": null,
   "metadata": {},
   "outputs": [],
   "source": [
    "largest = int(input())  # принимаем первое число за максимальное\n",
    "for i in range(9):\n",
    "    num = int(input())\n",
    "    if num < largest:\n",
    "        largest = num\n",
    "print('Наибольшее число равно', largest)"
   ]
  },
  {
   "cell_type": "code",
   "execution_count": 51,
   "metadata": {},
   "outputs": [
    {
     "name": "stdout",
     "output_type": "stream",
     "text": [
      "1361015"
     ]
    }
   ],
   "source": [
    "total = 0\n",
    "for i in range(1, 6):\n",
    "    total += i\n",
    "    print(total, end='')"
   ]
  }
 ],
 "metadata": {
  "kernelspec": {
   "display_name": "Python 3.10.0 64-bit",
   "language": "python",
   "name": "python3"
  },
  "language_info": {
   "codemirror_mode": {
    "name": "ipython",
    "version": 3
   },
   "file_extension": ".py",
   "mimetype": "text/x-python",
   "name": "python",
   "nbconvert_exporter": "python",
   "pygments_lexer": "ipython3",
   "version": "3.10.0"
  },
  "orig_nbformat": 4,
  "vscode": {
   "interpreter": {
    "hash": "632b5033b1b4111fabe2a384eba753571508b89fedbf1b11d01133667b027ba9"
   }
  }
 },
 "nbformat": 4,
 "nbformat_minor": 2
}
