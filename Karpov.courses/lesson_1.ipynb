{
 "cells": [
  {
   "cell_type": "code",
   "execution_count": 1,
   "metadata": {},
   "outputs": [],
   "source": [
    "analyst = 'Anatoly'"
   ]
  },
  {
   "cell_type": "code",
   "execution_count": 2,
   "metadata": {},
   "outputs": [],
   "source": [
    "years = 2"
   ]
  },
  {
   "cell_type": "code",
   "execution_count": 3,
   "metadata": {},
   "outputs": [],
   "source": [
    "has_job = False"
   ]
  },
  {
   "cell_type": "code",
   "execution_count": 4,
   "metadata": {},
   "outputs": [],
   "source": [
    "analyst_2 = 'Olga'"
   ]
  },
  {
   "cell_type": "code",
   "execution_count": 5,
   "metadata": {},
   "outputs": [],
   "source": [
    "years_2 = 3"
   ]
  },
  {
   "cell_type": "code",
   "execution_count": 6,
   "metadata": {},
   "outputs": [],
   "source": [
    "has_job_2 = True"
   ]
  },
  {
   "cell_type": "code",
   "execution_count": 7,
   "metadata": {},
   "outputs": [],
   "source": [
    "analysts = ['Anatoly', 'Olga', 'Beslan']"
   ]
  },
  {
   "cell_type": "code",
   "execution_count": 8,
   "metadata": {},
   "outputs": [],
   "source": [
    "years = [2, 3, 4]"
   ]
  },
  {
   "cell_type": "code",
   "execution_count": 9,
   "metadata": {},
   "outputs": [],
   "source": [
    "analysts.append('Michael')"
   ]
  },
  {
   "cell_type": "code",
   "execution_count": 10,
   "metadata": {},
   "outputs": [
    {
     "data": {
      "text/plain": [
       "'Michael'"
      ]
     },
     "execution_count": 10,
     "metadata": {},
     "output_type": "execute_result"
    }
   ],
   "source": [
    "analysts.pop(3)"
   ]
  },
  {
   "cell_type": "code",
   "execution_count": 11,
   "metadata": {},
   "outputs": [
    {
     "data": {
      "text/plain": [
       "['Anatoly', 'Olga', 'Beslan']"
      ]
     },
     "execution_count": 11,
     "metadata": {},
     "output_type": "execute_result"
    }
   ],
   "source": [
    "analysts"
   ]
  },
  {
   "cell_type": "code",
   "execution_count": 12,
   "metadata": {},
   "outputs": [],
   "source": [
    "has_job = False"
   ]
  },
  {
   "cell_type": "code",
   "execution_count": 13,
   "metadata": {},
   "outputs": [
    {
     "name": "stdout",
     "output_type": "stream",
     "text": [
      "Anatoly is sad!\n"
     ]
    }
   ],
   "source": [
    "if has_job:\n",
    "    happy_message = 'Anatoly is happy!'\n",
    "    print(happy_message)\n",
    "else:\n",
    "    sad_message = 'Anatoly is sad!'\n",
    "    print(sad_message)"
   ]
  },
  {
   "cell_type": "code",
   "execution_count": 14,
   "metadata": {},
   "outputs": [],
   "source": [
    "if has_job:\n",
    "    message = 'Anatoly is happy!'\n",
    "    print(message)"
   ]
  },
  {
   "cell_type": "code",
   "execution_count": 15,
   "metadata": {},
   "outputs": [],
   "source": [
    "job_years = 0.5"
   ]
  },
  {
   "cell_type": "code",
   "execution_count": 16,
   "metadata": {},
   "outputs": [],
   "source": [
    "salary = 200000"
   ]
  },
  {
   "cell_type": "code",
   "execution_count": 17,
   "metadata": {},
   "outputs": [],
   "source": [
    "message = 'Addition is equal {coef}. New salary is {new_salary}!'"
   ]
  },
  {
   "cell_type": "code",
   "execution_count": 18,
   "metadata": {},
   "outputs": [
    {
     "name": "stdout",
     "output_type": "stream",
     "text": [
      "Addition is equal 0. New salary is 200000!\n"
     ]
    }
   ],
   "source": [
    "if job_years < 1:\n",
    "    coefficient = 0\n",
    "elif job_years >= 1 and job_years <=2:\n",
    "    coefficient = 0.2\n",
    "else:\n",
    "    coefficient = 0.4\n",
    "\n",
    "new_salary = salary + salary * coefficient\n",
    "\n",
    "print(message.format(coef=coefficient, new_salary=new_salary))"
   ]
  },
  {
   "cell_type": "code",
   "execution_count": 19,
   "metadata": {},
   "outputs": [],
   "source": [
    "analysts = ['Anatoly', 'Olga', 'Beslan']"
   ]
  },
  {
   "cell_type": "code",
   "execution_count": 20,
   "metadata": {},
   "outputs": [
    {
     "name": "stdout",
     "output_type": "stream",
     "text": [
      "Analyst name is Anatoly!\n"
     ]
    }
   ],
   "source": [
    "for i in analysts:\n",
    "    if i == 'Anatoly':\n",
    "        print('Analyst name is {}!'.format(i))"
   ]
  },
  {
   "cell_type": "code",
   "execution_count": 21,
   "metadata": {},
   "outputs": [],
   "source": [
    "analysts_data = {'Anatoly': [2, 100000], 'Olga': [3, 200000], 'Beslan': [4, 300000]}"
   ]
  },
  {
   "cell_type": "code",
   "execution_count": 22,
   "metadata": {},
   "outputs": [],
   "source": [
    "analysts_data['Michael'] = 10"
   ]
  },
  {
   "cell_type": "code",
   "execution_count": 23,
   "metadata": {},
   "outputs": [
    {
     "data": {
      "text/plain": [
       "10"
      ]
     },
     "execution_count": 23,
     "metadata": {},
     "output_type": "execute_result"
    }
   ],
   "source": [
    "analysts_data['Michael']"
   ]
  },
  {
   "cell_type": "code",
   "execution_count": 25,
   "metadata": {},
   "outputs": [
    {
     "name": "stdout",
     "output_type": "stream",
     "text": [
      "Beslan\n"
     ]
    },
    {
     "ename": "TypeError",
     "evalue": "'int' object is not subscriptable",
     "output_type": "error",
     "traceback": [
      "\u001b[1;31m---------------------------------------------------------------------------\u001b[0m",
      "\u001b[1;31mTypeError\u001b[0m                                 Traceback (most recent call last)",
      "\u001b[1;32mc:\\Users\\zelot_r3yhc9g\\Documents\\Visual Code\\Karpov.courses\\lesson_1.ipynb Ячейка 24\u001b[0m in \u001b[0;36m<cell line: 1>\u001b[1;34m()\u001b[0m\n\u001b[0;32m      <a href='vscode-notebook-cell:/c%3A/Users/zelot_r3yhc9g/Documents/Visual%20Code/Karpov.courses/lesson_1.ipynb#X46sZmlsZQ%3D%3D?line=0'>1</a>\u001b[0m \u001b[39mfor\u001b[39;00m i \u001b[39min\u001b[39;00m analysts_data:\n\u001b[1;32m----> <a href='vscode-notebook-cell:/c%3A/Users/zelot_r3yhc9g/Documents/Visual%20Code/Karpov.courses/lesson_1.ipynb#X46sZmlsZQ%3D%3D?line=1'>2</a>\u001b[0m     \u001b[39mif\u001b[39;00m analysts_data[i][\u001b[39m0\u001b[39;49m] \u001b[39m>\u001b[39m \u001b[39m3\u001b[39m:\n\u001b[0;32m      <a href='vscode-notebook-cell:/c%3A/Users/zelot_r3yhc9g/Documents/Visual%20Code/Karpov.courses/lesson_1.ipynb#X46sZmlsZQ%3D%3D?line=2'>3</a>\u001b[0m         \u001b[39mprint\u001b[39m(i)\n",
      "\u001b[1;31mTypeError\u001b[0m: 'int' object is not subscriptable"
     ]
    }
   ],
   "source": [
    "for i in analysts_data:\n",
    "    if analysts_data[i][0] > 3:\n",
    "        print(i)"
   ]
  },
  {
   "cell_type": "code",
   "execution_count": 10,
   "metadata": {},
   "outputs": [
    {
     "ename": "TypeError",
     "evalue": "int() argument must be a string, a bytes-like object or a real number, not 'list'",
     "output_type": "error",
     "traceback": [
      "\u001b[1;31m---------------------------------------------------------------------------\u001b[0m",
      "\u001b[1;31mTypeError\u001b[0m                                 Traceback (most recent call last)",
      "\u001b[1;32mc:\\Users\\zelot_r3yhc9g\\Documents\\Visual Code\\Karpov.courses\\lesson_1.ipynb Ячейка 25\u001b[0m in \u001b[0;36m<cell line: 1>\u001b[1;34m()\u001b[0m\n\u001b[1;32m----> <a href='vscode-notebook-cell:/c%3A/Users/zelot_r3yhc9g/Documents/Visual%20Code/Karpov.courses/lesson_1.ipynb#X33sZmlsZQ%3D%3D?line=0'>1</a>\u001b[0m \u001b[39mint\u001b[39;49m(a)\n\u001b[0;32m      <a href='vscode-notebook-cell:/c%3A/Users/zelot_r3yhc9g/Documents/Visual%20Code/Karpov.courses/lesson_1.ipynb#X33sZmlsZQ%3D%3D?line=1'>2</a>\u001b[0m \u001b[39mint\u001b[39m(b)\n\u001b[0;32m      <a href='vscode-notebook-cell:/c%3A/Users/zelot_r3yhc9g/Documents/Visual%20Code/Karpov.courses/lesson_1.ipynb#X33sZmlsZQ%3D%3D?line=2'>3</a>\u001b[0m c \u001b[39m=\u001b[39m \u001b[39mint\u001b[39m(\u001b[39minput\u001b[39m(a)) \u001b[39m+\u001b[39m (\u001b[39minput\u001b[39m(b))\n",
      "\u001b[1;31mTypeError\u001b[0m: int() argument must be a string, a bytes-like object or a real number, not 'list'"
     ]
    }
   ],
   "source": [
    "int(a)\n",
    "int(b)\n",
    "c = int(input(a)) + (input(b))\n",
    "print(c)"
   ]
  },
  {
   "cell_type": "code",
   "execution_count": 37,
   "metadata": {},
   "outputs": [],
   "source": [
    "#!/usr/bin/env python3\n",
    "# -*- coding: utf-8 -*-\n",
    "\"\"\"\n",
    "Created on Fri May 17 17:23:19 2019\n",
    "@author: grigoriy\n",
    "\"\"\"\n",
    "# -*- coding: utf-8 -*-\n",
    "import sys\n",
    "\n",
    " \n",
    "j = sys.stdin.readline().strip()\n",
    "s = sys.stdin.readline().strip()\n",
    "\n",
    "result = 0\n",
    "for symbol in s:\n",
    "  if symbol in j:\n",
    "    result+=1\n",
    "print(result)"
   ]
  },
  {
   "cell_type": "code",
   "execution_count": 14,
   "metadata": {},
   "outputs": [
    {
     "name": "stdout",
     "output_type": "stream",
     "text": [
      "5\n"
     ]
    }
   ],
   "source": [
    "a = input()\n",
    "b = input()\n",
    "print(int(a) + int(b))"
   ]
  },
  {
   "cell_type": "code",
   "execution_count": 15,
   "metadata": {},
   "outputs": [
    {
     "data": {
      "text/plain": [
       "0.6666666666666666"
      ]
     },
     "execution_count": 15,
     "metadata": {},
     "output_type": "execute_result"
    }
   ],
   "source": [
    "2/3"
   ]
  },
  {
   "cell_type": "code",
   "execution_count": null,
   "metadata": {},
   "outputs": [],
   "source": [
    "def main():\n",
    "    with open('input.txt') as f:\n",
    "        nums = f.read().split()\n",
    "\n",
    "    a, b = map(int, nums)\n",
    "    result = a + b\n",
    "\n",
    "    with open('output.txt', 'w') as f:\n",
    "        f.write(str(result))\n",
    "\n",
    "\n",
    "if __name__ == '__main__':\n",
    "    main()"
   ]
  },
  {
   "cell_type": "code",
   "execution_count": 28,
   "metadata": {},
   "outputs": [
    {
     "name": "stdout",
     "output_type": "stream",
     "text": [
      "[19, 25, 24, 19, 25, 26, 19, 24, 24]\n"
     ]
    }
   ],
   "source": [
    "user_ages = [19, 25, 24, 19, 12, 5, 25, 7, 26, 12, 12, 19, 11, 24, 6, 11, 18, 18, 17, 24]\n",
    "user_ages_18 = []\n",
    "for i in user_ages:\n",
    "    if i > 18:\n",
    "        user_ages_18.append(i)\n",
    "print(user_ages_18)\n"
   ]
  },
  {
   "cell_type": "code",
   "execution_count": 21,
   "metadata": {},
   "outputs": [
    {
     "ename": "TypeError",
     "evalue": "'<' not supported between instances of 'list' and 'int'",
     "output_type": "error",
     "traceback": [
      "\u001b[1;31m---------------------------------------------------------------------------\u001b[0m",
      "\u001b[1;31mTypeError\u001b[0m                                 Traceback (most recent call last)",
      "\u001b[1;32mc:\\Users\\zelot_r3yhc9g\\Documents\\Visual Code\\Karpov.courses\\lesson_1.ipynb Ячейка 31\u001b[0m in \u001b[0;36m<cell line: 2>\u001b[1;34m()\u001b[0m\n\u001b[0;32m      <a href='vscode-notebook-cell:/c%3A/Users/zelot_r3yhc9g/Documents/Visual%20Code/Karpov.courses/lesson_1.ipynb#X42sZmlsZQ%3D%3D?line=0'>1</a>\u001b[0m user_ages \u001b[39m=\u001b[39m [\u001b[39m19\u001b[39m, \u001b[39m25\u001b[39m, \u001b[39m24\u001b[39m, \u001b[39m19\u001b[39m, \u001b[39m12\u001b[39m, \u001b[39m5\u001b[39m, \u001b[39m25\u001b[39m, \u001b[39m7\u001b[39m, \u001b[39m26\u001b[39m, \u001b[39m12\u001b[39m, \u001b[39m12\u001b[39m, \u001b[39m19\u001b[39m, \u001b[39m11\u001b[39m, \u001b[39m24\u001b[39m, \u001b[39m6\u001b[39m, \u001b[39m11\u001b[39m, \u001b[39m18\u001b[39m, \u001b[39m18\u001b[39m, \u001b[39m17\u001b[39m, \u001b[39m24\u001b[39m]\n\u001b[1;32m----> <a href='vscode-notebook-cell:/c%3A/Users/zelot_r3yhc9g/Documents/Visual%20Code/Karpov.courses/lesson_1.ipynb#X42sZmlsZQ%3D%3D?line=1'>2</a>\u001b[0m user_ages \u001b[39m<\u001b[39;49m \u001b[39m18\u001b[39;49m\n",
      "\u001b[1;31mTypeError\u001b[0m: '<' not supported between instances of 'list' and 'int'"
     ]
    }
   ],
   "source": [
    "user_ages = [19, 25, 24, 19, 12, 5, 25, 7, 26, 12, 12, 19, 11, 24, 6, 11, 18, 18, 17, 24]\n",
    "user_ages < 18"
   ]
  },
  {
   "cell_type": "code",
   "execution_count": null,
   "metadata": {},
   "outputs": [],
   "source": []
  }
 ],
 "metadata": {
  "kernelspec": {
   "display_name": "Python 3.10.0 64-bit",
   "language": "python",
   "name": "python3"
  },
  "language_info": {
   "codemirror_mode": {
    "name": "ipython",
    "version": 3
   },
   "file_extension": ".py",
   "mimetype": "text/x-python",
   "name": "python",
   "nbconvert_exporter": "python",
   "pygments_lexer": "ipython3",
   "version": "3.10.0"
  },
  "vscode": {
   "interpreter": {
    "hash": "632b5033b1b4111fabe2a384eba753571508b89fedbf1b11d01133667b027ba9"
   }
  }
 },
 "nbformat": 4,
 "nbformat_minor": 4
}
