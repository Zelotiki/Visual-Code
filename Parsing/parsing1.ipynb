{
 "cells": [
  {
   "cell_type": "code",
   "execution_count": 2,
   "metadata": {},
   "outputs": [
    {
     "name": "stdout",
     "output_type": "stream",
     "text": [
      "Collecting package metadata (current_repodata.json): ...working... done\n",
      "Solving environment: ...working... done\n",
      "\n",
      "# All requested packages already installed.\n",
      "\n",
      "Retrieving notices: ...working... done\n",
      "\n",
      "Note: you may need to restart the kernel to use updated packages.\n"
     ]
    }
   ],
   "source": [
    "conda install jupyter"
   ]
  },
  {
   "cell_type": "code",
   "execution_count": 1,
   "metadata": {},
   "outputs": [
    {
     "ename": "SyntaxError",
     "evalue": "invalid syntax (2213452738.py, line 1)",
     "output_type": "error",
     "traceback": [
      "\u001b[1;36m  Cell \u001b[1;32mIn [1], line 1\u001b[1;36m\u001b[0m\n\u001b[1;33m    a -> 1\u001b[0m\n\u001b[1;37m      ^\u001b[0m\n\u001b[1;31mSyntaxError\u001b[0m\u001b[1;31m:\u001b[0m invalid syntax\n"
     ]
    }
   ],
   "source": [
    "a -> 1"
   ]
  },
  {
   "cell_type": "code",
   "execution_count": null,
   "metadata": {},
   "outputs": [
    {
     "ename": "",
     "evalue": "",
     "output_type": "error",
     "traceback": [
      "\u001b[1;31mДля выполнения ячеек с \"Python ('rstudio')\" требуется пакет ipykernel.\n",
      "\u001b[1;31mВыполните следующую команду, чтобы установить \"ipykernel\" в среде Python. \n",
      "\u001b[1;31mКоманда: \"conda install -n rstudio ipykernel --update-deps --force-reinstall\""
     ]
    }
   ],
   "source": [
    "conda install -n rstudio ipykernel --update-deps --force-reinstall"
   ]
  },
  {
   "cell_type": "code",
   "execution_count": 3,
   "metadata": {},
   "outputs": [
    {
     "name": "stdout",
     "output_type": "stream",
     "text": [
      "Collecting package metadata (current_repodata.json): ...working... done\n",
      "Solving environment: ...working... failed with repodata from current_repodata.json, will retry with next repodata source.\n",
      "\n",
      "Note: you may need to restart the kernel to use updated packages.\n"
     ]
    },
    {
     "name": "stderr",
     "output_type": "stream",
     "text": [
      "\n",
      "# >>>>>>>>>>>>>>>>>>>>>> ERROR REPORT <<<<<<<<<<<<<<<<<<<<<<\n",
      "\n",
      "    Traceback (most recent call last):\n",
      "      File \"C:\\Users\\zelot_r3yhc9g\\anaconda3\\lib\\site-packages\\conda\\exceptions.py\", line 1129, in __call__\n",
      "        return func(*args, **kwargs)\n",
      "      File \"C:\\Users\\zelot_r3yhc9g\\anaconda3\\lib\\site-packages\\conda\\cli\\main.py\", line 86, in main_subshell\n",
      "        exit_code = do_call(args, p)\n",
      "      File \"C:\\Users\\zelot_r3yhc9g\\anaconda3\\lib\\site-packages\\conda\\cli\\conda_argparse.py\", line 93, in do_call\n",
      "        return getattr(module, func_name)(args, parser)\n",
      "      File \"C:\\Users\\zelot_r3yhc9g\\anaconda3\\lib\\site-packages\\conda\\notices\\core.py\", line 72, in wrapper\n",
      "        return_value = func(*args, **kwargs)\n",
      "      File \"C:\\Users\\zelot_r3yhc9g\\anaconda3\\lib\\site-packages\\conda\\cli\\main_install.py\", line 22, in execute\n",
      "        install(args, parser, 'install')\n",
      "      File \"C:\\Users\\zelot_r3yhc9g\\anaconda3\\lib\\site-packages\\conda\\cli\\install.py\", line 261, in install\n",
      "        unlink_link_transaction = solver.solve_for_transaction(\n",
      "      File \"C:\\Users\\zelot_r3yhc9g\\anaconda3\\lib\\site-packages\\conda\\core\\solve.py\", line 156, in solve_for_transaction\n",
      "        unlink_precs, link_precs = self.solve_for_diff(update_modifier, deps_modifier,\n",
      "      File \"C:\\Users\\zelot_r3yhc9g\\anaconda3\\lib\\site-packages\\conda\\core\\solve.py\", line 199, in solve_for_diff\n",
      "        final_precs = self.solve_final_state(update_modifier, deps_modifier, prune, ignore_pinned,\n",
      "      File \"C:\\Users\\zelot_r3yhc9g\\anaconda3\\lib\\site-packages\\conda\\core\\solve.py\", line 343, in solve_final_state\n",
      "        ssc = self._post_sat_handling(ssc)\n",
      "      File \"C:\\Users\\zelot_r3yhc9g\\anaconda3\\lib\\site-packages\\conda\\core\\solve.py\", line 971, in _post_sat_handling\n",
      "        python_rec = ssc.prefix_data.get(\"python\")\n",
      "      File \"C:\\Users\\zelot_r3yhc9g\\anaconda3\\lib\\site-packages\\conda\\core\\prefix_data.py\", line 131, in get\n",
      "        return self._prefix_records[package_name]\n",
      "    KeyError: 'python'\n",
      "\n",
      "`$ C:\\Users\\zelot_r3yhc9g\\anaconda3\\Scripts\\conda-script.py install --yes -n rstudio ipykernel --update-deps --force-reinstall`\n",
      "\n",
      "  environment variables:\n",
      "                 CIO_TEST=<not set>\n",
      "        CONDA_DEFAULT_ENV=base\n",
      "                CONDA_EXE=C:\\Users\\zelot_r3yhc9g\\anaconda3\\condabin\\..\\Scripts\\conda.exe\n",
      "               CONDA_EXES=\"C:\\Users\\zelot_r3yhc9g\\anaconda3\\condabin\\..\\Scripts\\conda.exe\"\n",
      "             CONDA_PREFIX=C:\\Users\\zelot_r3yhc9g\\anaconda3\n",
      "    CONDA_PROMPT_MODIFIER=(base)\n",
      "         CONDA_PYTHON_EXE=C:\\Users\\zelot_r3yhc9g\\anaconda3\\python.exe\n",
      "               CONDA_ROOT=C:\\Users\\zelot_r3yhc9g\\anaconda3\n",
      "              CONDA_SHLVL=1\n",
      "           CURL_CA_BUNDLE=<not set>\n",
      "                 HOMEPATH=\\Users\\zelot_r3yhc9g\n",
      "                     PATH=c:\\Users\\zelot_r3yhc9g\\anaconda3;C:\\Users\\zelot_r3yhc9g\\anaconda3;C:\\U\n",
      "                          sers\\zelot_r3yhc9g\\anaconda3\\Library\\mingw-w64\\bin;C:\\Users\\zelot_r3yh\n",
      "                          c9g\\anaconda3\\Library\\usr\\bin;C:\\Users\\zelot_r3yhc9g\\anaconda3\\Library\n",
      "                          \\bin;C:\\Users\\zelot_r3yhc9g\\anaconda3\\Scripts;C:\\Users\\zelot_r3yhc9g\\a\n",
      "                          naconda3\\bin;C:\\Users\\zelot_r3yhc9g\\anaconda3\\condabin;C:\\WINDOWS\\syst\n",
      "                          em32;C:\\WINDOWS;C:\\WINDOWS\\System32\\Wbem;C:\\WINDOWS\\System32\\WindowsPo\n",
      "                          werShell\\v1.0;C:\\WINDOWS\\System32\\OpenSSH;C:\\Program Files\n",
      "                          (x86)\\NVIDIA Corporation\\PhysX\\Common;C:\\Program Files\\NVIDIA\n",
      "                          Corporation\\NVIDIA NvDLISR;C:\\WINDOWS\\system32;C:\\WINDOWS;C:\\WINDOWS\\S\n",
      "                          ystem32\\Wbem;C:\\WINDOWS\\System32\\WindowsPowerShell\\v1.0;C:\\WINDOWS\\Sys\n",
      "                          tem32\\OpenSSH;C:\\Program Files\\dotnet;C:\\Program Files\\Git\\cmd;C:\\User\n",
      "                          s\\zelot_r3yhc9g\\AppData\\Local\\Programs\\Python\\Launcher;C:\\Users\\zelot_\n",
      "                          r3yhc9g\\AppData\\Local\\Microsoft\\WindowsApps;C:\\Users\\zelot_r3yhc9g\\App\n",
      "                          Data\\Local\\Programs\\Microsoft VS\n",
      "                          Code\\bin;C:\\Users\\zelot_r3yhc9g\\AppData\\Local\\GitHubDesktop\\bin\n",
      "             PSMODULEPATH=C:\\Program Files\\WindowsPowerShell\\Modules;C:\\WINDOWS\\system32\\Windows\n",
      "                          PowerShell\\v1.0\\Modules\n",
      "         PYTHONIOENCODING=utf-8\n",
      "         PYTHONNOUSERSITE=True\n",
      "         PYTHONUNBUFFERED=1\n",
      "       REQUESTS_CA_BUNDLE=<not set>\n",
      "            SSL_CERT_FILE=<not set>\n",
      "   VSCODE_CODE_CACHE_PATH=C:\\Users\\zelot_r3yhc9g\\AppData\\Roaming\\Code\\CachedData\\74b1f979648cc44\n",
      "                          d385a2286793c226e611f59e7\n",
      "\n",
      "     active environment : base\n",
      "    active env location : C:\\Users\\zelot_r3yhc9g\\anaconda3\n",
      "            shell level : 1\n",
      "       user config file : C:\\Users\\zelot_r3yhc9g\\.condarc\n",
      " populated config files : C:\\Users\\zelot_r3yhc9g\\.condarc\n",
      "          conda version : 22.9.0\n",
      "    conda-build version : 3.21.9\n",
      "         python version : 3.8.8.final.0\n",
      "       virtual packages : __cuda=11.7=0\n",
      "                          __win=0=0\n",
      "                          __archspec=1=x86_64\n",
      "       base environment : C:\\Users\\zelot_r3yhc9g\\anaconda3  (writable)\n",
      "      conda av data dir : C:\\Users\\zelot_r3yhc9g\\anaconda3\\etc\\conda\n",
      "  conda av metadata url : None\n",
      "           channel URLs : https://repo.anaconda.com/pkgs/main/win-64\n",
      "                          https://repo.anaconda.com/pkgs/main/noarch\n",
      "                          https://repo.anaconda.com/pkgs/r/win-64\n",
      "                          https://repo.anaconda.com/pkgs/r/noarch\n",
      "                          https://repo.anaconda.com/pkgs/msys2/win-64\n",
      "                          https://repo.anaconda.com/pkgs/msys2/noarch\n",
      "          package cache : C:\\Users\\zelot_r3yhc9g\\anaconda3\\pkgs\n",
      "                          C:\\Users\\zelot_r3yhc9g\\.conda\\pkgs\n",
      "                          C:\\Users\\zelot_r3yhc9g\\AppData\\Local\\conda\\conda\\pkgs\n",
      "       envs directories : C:\\Users\\zelot_r3yhc9g\\anaconda3\\envs\n",
      "                          C:\\Users\\zelot_r3yhc9g\\.conda\\envs\n",
      "                          C:\\Users\\zelot_r3yhc9g\\AppData\\Local\\conda\\conda\\envs\n",
      "               platform : win-64\n",
      "             user-agent : conda/22.9.0 requests/2.28.1 CPython/3.8.8 Windows/10 Windows/10.0.22000\n",
      "          administrator : False\n",
      "             netrc file : None\n",
      "           offline mode : False\n",
      "\n",
      "\n",
      "An unexpected error has occurred. Conda has prepared the above report.\n",
      "\n",
      "Upload successful.\n"
     ]
    }
   ],
   "source": [
    "conda install -n rstudio ipykernel --update-deps --force-reinstall"
   ]
  },
  {
   "cell_type": "code",
   "execution_count": 1,
   "metadata": {},
   "outputs": [],
   "source": [
    "a = 1"
   ]
  },
  {
   "cell_type": "code",
   "execution_count": 3,
   "metadata": {},
   "outputs": [
    {
     "data": {
      "text/plain": [
       "1"
      ]
     },
     "execution_count": 3,
     "metadata": {},
     "output_type": "execute_result"
    }
   ],
   "source": [
    "a"
   ]
  },
  {
   "cell_type": "code",
   "execution_count": null,
   "metadata": {},
   "outputs": [],
   "source": []
  }
 ],
 "metadata": {
  "kernelspec": {
   "display_name": "Python 3.10.0 ('pythonProject1')",
   "language": "python",
   "name": "python3"
  },
  "language_info": {
   "codemirror_mode": {
    "name": "ipython",
    "version": 3
   },
   "file_extension": ".py",
   "mimetype": "text/x-python",
   "name": "python",
   "nbconvert_exporter": "python",
   "pygments_lexer": "ipython3",
   "version": "3.10.0"
  },
  "orig_nbformat": 4,
  "vscode": {
   "interpreter": {
    "hash": "3eed5c12b3648f774806c47fa65c8068fe1ff1b1b81aaf7c31ce10fd943bccb6"
   }
  }
 },
 "nbformat": 4,
 "nbformat_minor": 2
}
